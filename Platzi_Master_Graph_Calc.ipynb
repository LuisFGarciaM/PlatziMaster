{
  "nbformat": 4,
  "nbformat_minor": 0,
  "metadata": {
    "colab": {
      "name": "Platzi_Master_Graph_Calc.ipynb",
      "provenance": [],
      "collapsed_sections": []
    },
    "kernelspec": {
      "name": "python3",
      "display_name": "Python 3"
    },
    "language_info": {
      "name": "python"
    }
  },
  "cells": [
    {
      "cell_type": "markdown",
      "metadata": {
        "id": "ZsQd2M-RXuIN"
      },
      "source": [
        "Calculadora Gráfica\n",
        "\n",
        "Se dibujará un punto en el plano cartesiano con los valores que indiques. Para empezar corre la celda de abajo y sigue las instrucciones. "
      ]
    },
    {
      "cell_type": "code",
      "metadata": {
        "colab": {
          "base_uri": "https://localhost:8080/",
          "height": 306
        },
        "id": "DUCpCXIvv38r",
        "outputId": "a991c5c6-780a-49a6-eb66-03f944ac28b1"
      },
      "source": [
        "import matplotlib.pyplot as plt\n",
        "\n",
        "x = int(input(\"Escribe un número para el eje X: \"))\n",
        "y= int(input(\"Escribe un número para el eje Y: \"))\n",
        "\n",
        "plt.xlim([x -10, x + 10])\n",
        "plt.ylim([y - 10, y + 10])\n",
        "\n",
        "plt.scatter(x, y)\n",
        "plt.show()\n"
      ],
      "execution_count": 1,
      "outputs": [
        {
          "name": "stdout",
          "output_type": "stream",
          "text": [
            "Escribe un número para el eje X: -9\n",
            "Escribe un número para el eje Y: 5\n"
          ]
        },
        {
          "output_type": "display_data",
          "data": {
            "image/png": "[encoded data removed]",
            "text/plain": [
              "<Figure size 432x288 with 1 Axes>"
            ]
          },
          "metadata": {
            "needs_background": "light"
          }
        }
      ]
    },
    {
      "cell_type": "markdown",
      "metadata": {
        "id": "diMMlDEdYHWo"
      },
      "source": [
        "En esta sección se mostrarán gráficas de barras con cinco valores que indiques. Para iniciar corre la celda de abajo. Si deseas ingresar más valores, vuelve a correr la celda. "
      ]
    },
    {
      "cell_type": "code",
      "metadata": {
        "colab": {
          "base_uri": "https://localhost:8080/",
          "height": 428
        },
        "id": "iRhVFNpuxKG8",
        "outputId": "fe1bb22d-9959-4ecf-c669-e32649b78fc6"
      },
      "source": [
        "import matplotlib.pyplot as plt\n",
        "fig = plt.figure()\n",
        "ax = fig.add_axes([0,0,1,1])\n",
        "x1 = float(input(\"Escribe el primer número y presiona Enter: \"))\n",
        "x2 = float(input(\"Escribe el segundo número y presiona Enter: \"))\n",
        "x3 = float(input(\"Escribe el tercer número y presiona Enter: \"))\n",
        "x4 = float(input(\"Escribe el cuarto número y presiona Enter: \"))\n",
        "x5 = float(input(\"Escribe el quinto número y presiona Enter: \"))\n",
        "\n",
        "ejes = ['1er número', '2do número', '3er número', '4to número', '5to número']\n",
        "numeros = [x1,x2,x3,x4,x5]\n",
        "ax.bar(ejes,numeros)\n",
        "plt.show()"
      ],
      "execution_count": 2,
      "outputs": [
        {
          "name": "stdout",
          "output_type": "stream",
          "text": [
            "Escribe el primer número y presiona Enter: 5\n",
            "Escribe el segundo número y presiona Enter: 6\n",
            "Escribe el tercer número y presiona Enter: 21\n",
            "Escribe el cuarto número y presiona Enter: 42\n",
            "Escribe el quinto número y presiona Enter: 1\n"
          ]
        },
        {
          "output_type": "display_data",
          "data": {
            "image/png": "[encoded data removed]",
            "text/plain": [
              "<Figure size 432x288 with 1 Axes>"
            ]
          },
          "metadata": {
            "needs_background": "light"
          }
        }
      ]
    }
  ]
}